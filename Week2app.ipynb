{
  "nbformat": 4,
  "nbformat_minor": 0,
  "metadata": {
    "colab": {
      "provenance": [],
      "authorship_tag": "ABX9TyPThP4ylmhAmzRHsJHrUHVq",
      "include_colab_link": true
    },
    "kernelspec": {
      "name": "python3",
      "display_name": "Python 3"
    },
    "language_info": {
      "name": "python"
    }
  },
  "cells": [
    {
      "cell_type": "markdown",
      "metadata": {
        "id": "view-in-github",
        "colab_type": "text"
      },
      "source": [
        "<a href=\"https://colab.research.google.com/github/RiturajSingh2004/AgriML/blob/main/Week2app.ipynb\" target=\"_parent\"><img src=\"https://colab.research.google.com/assets/colab-badge.svg\" alt=\"Open In Colab\"/></a>"
      ]
    },
    {
      "cell_type": "code",
      "execution_count": null,
      "metadata": {
        "id": "-UNvo4RY85c9"
      },
      "outputs": [],
      "source": [
        "#For using Streamlit web application"
      ]
    },
    {
      "cell_type": "code",
      "source": [
        "! pip install streamlit -q"
      ],
      "metadata": {
        "id": "Jj6b4yxOIAvF"
      },
      "execution_count": null,
      "outputs": []
    },
    {
      "cell_type": "code",
      "source": [
        "!wget -q -O - ipv4.icanhazip.com"
      ],
      "metadata": {
        "colab": {
          "base_uri": "https://localhost:8080/"
        },
        "id": "eKt6g2JvIgxF",
        "outputId": "a965793f-0bb8-44d9-adfb-78634d2017c5"
      },
      "execution_count": null,
      "outputs": [
        {
          "output_type": "stream",
          "name": "stdout",
          "text": [
            "35.201.211.255\n"
          ]
        }
      ]
    },
    {
      "cell_type": "code",
      "source": [
        "! wget https://github.com/RiturajSingh2004/AgriML/blob/main/Crop_recommendation.csv"
      ],
      "metadata": {
        "id": "4dsmPtEmJpmO"
      },
      "execution_count": null,
      "outputs": []
    },
    {
      "cell_type": "code",
      "source": [
        "! wget https://github.com/RiturajSingh2004/AgriML/blob/main/Fertilizer%20Prediction.csv"
      ],
      "metadata": {
        "id": "pnGqwtF_J3_y"
      },
      "execution_count": null,
      "outputs": []
    },
    {
      "cell_type": "code",
      "source": [
        "! wget https://github.com/RiturajSingh2004/AgriML/blob/main/Week2.ipynb -O Week2.py"
      ],
      "metadata": {
        "id": "wjAyNb2nIrdY",
        "colab": {
          "base_uri": "https://localhost:8080/"
        },
        "outputId": "fbb0e4a9-349f-4e64-ea38-be369f427404"
      },
      "execution_count": 14,
      "outputs": [
        {
          "output_type": "stream",
          "name": "stdout",
          "text": [
            "--2025-02-01 15:42:09--  https://github.com/RiturajSingh2004/AgriML/blob/main/Week2.ipynb\n",
            "Resolving github.com (github.com)... 20.27.177.113\n",
            "Connecting to github.com (github.com)|20.27.177.113|:443... connected.\n",
            "HTTP request sent, awaiting response... 200 OK\n",
            "Length: unspecified [text/html]\n",
            "Saving to: ‘Week2.py’\n",
            "\n",
            "Week2.py                [ <=>                ] 243.18K  1.25MB/s    in 0.2s    \n",
            "\n",
            "2025-02-01 15:42:10 (1.25 MB/s) - ‘Week2.py’ saved [249013]\n",
            "\n"
          ]
        }
      ]
    },
    {
      "cell_type": "code",
      "source": [
        "! streamlit run Week2.py & npx localtunnel --port 8501"
      ],
      "metadata": {
        "id": "TJq9Iw74Ijft",
        "colab": {
          "base_uri": "https://localhost:8080/"
        },
        "outputId": "fb267c25-fc14-475f-a2f9-fbdbb1f56184"
      },
      "execution_count": 15,
      "outputs": [
        {
          "output_type": "stream",
          "name": "stdout",
          "text": [
            "\n",
            "Collecting usage statistics. To deactivate, set browser.gatherUsageStats to false.\n",
            "\u001b[0m\n",
            "\u001b[1G\u001b[0K⠙\u001b[1G\u001b[0K⠹\u001b[1G\u001b[0K⠸\u001b[1G\u001b[0K⠼\u001b[0m\n",
            "\u001b[34m\u001b[1m  You can now view your Streamlit app in your browser.\u001b[0m\n",
            "\u001b[0m\n",
            "\u001b[34m  Local URL: \u001b[0m\u001b[1mhttp://localhost:8501\u001b[0m\n",
            "\u001b[34m  Network URL: \u001b[0m\u001b[1mhttp://172.28.0.12:8501\u001b[0m\n",
            "\u001b[34m  External URL: \u001b[0m\u001b[1mhttp://35.201.211.255:8501\u001b[0m\n",
            "\u001b[0m\n",
            "\u001b[1G\u001b[0K⠴\u001b[1G\u001b[0K⠦\u001b[1G\u001b[0Kyour url is: https://wicked-teeth-tickle.loca.lt\n",
            "\u001b[34m  Stopping...\u001b[0m\n",
            "^C\n"
          ]
        }
      ]
    }
  ]
}